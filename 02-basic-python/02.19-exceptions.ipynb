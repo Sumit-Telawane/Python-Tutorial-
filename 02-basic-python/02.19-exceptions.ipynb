{
 "cells": [
  {
   "cell_type": "markdown",
   "metadata": {},
   "source": [
    "# Exception"
   ]
  },
  {
   "cell_type": "markdown",
   "metadata": {},
   "source": [
    "## try & except block"
   ]
  },
  {
   "cell_type": "markdown",
   "metadata": {},
   "source": [
    "When writing code, errors are inevitable. Even if there are no problems with the code, you may encounter other problems.\n",
    "\n",
    "Look at the following code:\n",
    "\n",
    "```python\n",
    "import math\n",
    "\n",
    "while True:\n",
    "     text = raw_input('> ')\n",
    "     if text[0] == 'q':\n",
    "         break\n",
    "     x = float(text)\n",
    "     y = math.log10(x)\n",
    "     print (\"log10({0}) = {1}\".format(x, y))\n",
    "```\n",
    "\n",
    "This code receives input from the command line, and when the input is a number, calculates its logarithm and outputs it until the input value is `q`.\n",
    "\n",
    "At first glance, there is nothing wrong, but when we enter 0 or a negative number:"
   ]
  },
  {
   "cell_type": "code",
   "execution_count": 1,
   "metadata": {},
   "outputs": [
    {
     "name": "stdout",
     "output_type": "stream",
     "text": [
      "> 2\n",
      "log10(2.0) = 0.3010299956639812\n",
      "> 0\n"
     ]
    },
    {
     "ename": "ValueError",
     "evalue": "math domain error",
     "output_type": "error",
     "traceback": [
      "\u001b[1;31m---------------------------------------------------------------------------\u001b[0m",
      "\u001b[1;31mValueError\u001b[0m                                Traceback (most recent call last)",
      "Cell \u001b[1;32mIn[1], line 8\u001b[0m\n\u001b[0;32m      6\u001b[0m     \u001b[38;5;28;01mbreak\u001b[39;00m\n\u001b[0;32m      7\u001b[0m x \u001b[38;5;241m=\u001b[39m \u001b[38;5;28mfloat\u001b[39m(text)\n\u001b[1;32m----> 8\u001b[0m y \u001b[38;5;241m=\u001b[39m \u001b[43mmath\u001b[49m\u001b[38;5;241;43m.\u001b[39;49m\u001b[43mlog10\u001b[49m\u001b[43m(\u001b[49m\u001b[43mx\u001b[49m\u001b[43m)\u001b[49m\n\u001b[0;32m      9\u001b[0m \u001b[38;5;28mprint\u001b[39m (\u001b[38;5;124m\"\u001b[39m\u001b[38;5;124mlog10(\u001b[39m\u001b[38;5;132;01m{0}\u001b[39;00m\u001b[38;5;124m) = \u001b[39m\u001b[38;5;132;01m{1}\u001b[39;00m\u001b[38;5;124m\"\u001b[39m\u001b[38;5;241m.\u001b[39mformat(x, y))\n",
      "\u001b[1;31mValueError\u001b[0m: math domain error"
     ]
    }
   ],
   "source": [
    "import math\n",
    "\n",
    "while True:\n",
    "    text = input('> ')\n",
    "    if text[0] == 'q':\n",
    "        break\n",
    "    x = float(text)\n",
    "    y = math.log10(x)\n",
    "    print (\"log10({0}) = {1}\".format(x, y))"
   ]
  },
  {
   "cell_type": "markdown",
   "metadata": {},
   "source": [
    "The `log10` function will throw an error because it cannot accept non-positive values."
   ]
  },
  {
   "cell_type": "markdown",
   "metadata": {},
   "source": [
    "Once an error is reported, the program will stop executing. If we do not want the program to stop executing, then we can add a pair of `try & except`:"
   ]
  },
  {
   "cell_type": "code",
   "execution_count": 2,
   "metadata": {},
   "outputs": [
    {
     "name": "stdout",
     "output_type": "stream",
     "text": [
      "> 0\n",
      "The value must be greater than 0\n"
     ]
    }
   ],
   "source": [
    "import math\n",
    "a= True\n",
    "while a:\n",
    "    try:\n",
    "        text = input('> ')\n",
    "        if text[0] == 'q':\n",
    "            break\n",
    "        x = float(text)\n",
    "        y = math.log10(x)\n",
    "        print(\"log10({0}) = {1}\".format(x, y))\n",
    "    except ValueError:\n",
    "        print(\"The value must be greater than 0\")\n",
    "        a = False\n"
   ]
  },
  {
   "cell_type": "markdown",
   "metadata": {},
   "source": [
    "Once an exception occurs in the content in the `try` block, the content after the `try` block will be ignored. **Python** will look for the corresponding content in `except`. If found, the corresponding block will be executed. If not, this exception is thrown.\n",
    "\n",
    "In the above example, `try` throws `ValueError`, and there is corresponding content in `except`, so this exception is caught by `except` and the program can continue to execute:"
   ]
  },
  {
   "cell_type": "markdown",
   "metadata": {},
   "source": [
    "import math\n",
    "\n",
    "while True:\n",
    "    try:\n",
    "        text = raw_input('> ')\n",
    "        if text[0] == 'q':\n",
    "            break\n",
    "        x = float(text)\n",
    "        y = math.log10(x)\n",
    "        print \"log10({0}) = {1}\".format(x, y)\n",
    "    except ValueError:\n",
    "        print \"the value must be greater than 0\""
   ]
  },
  {
   "cell_type": "markdown",
   "metadata": {},
   "source": [
    "## Catching different error types"
   ]
  },
  {
   "cell_type": "markdown",
   "metadata": {},
   "source": [
    "``` python\n",
    "import math\n",
    "\n",
    "while True:\n",
    "    try:\n",
    "        text = raw_input('> ')\n",
    "        if text[0] == 'q':\n",
    "            break\n",
    "        x = float(text)\n",
    "        y = 1 / math.log10(x)\n",
    "        print (\"log10({0}) = {1}\".format(x, y))\n",
    "    except ValueError:\n",
    "        print (\"the value must be greater than 0\")\n",
    "```\n",
    "\n",
    "Suppose we change `y` here to `1 / math.log10(x)` and enter `1`:"
   ]
  },
  {
   "cell_type": "code",
   "execution_count": 3,
   "metadata": {},
   "outputs": [
    {
     "name": "stdout",
     "output_type": "stream",
     "text": [
      "> 0\n",
      "the value must be greater than 0\n",
      "> 1\n"
     ]
    },
    {
     "ename": "ZeroDivisionError",
     "evalue": "float division by zero",
     "output_type": "error",
     "traceback": [
      "\u001b[1;31m---------------------------------------------------------------------------\u001b[0m",
      "\u001b[1;31mZeroDivisionError\u001b[0m                         Traceback (most recent call last)",
      "Cell \u001b[1;32mIn[3], line 9\u001b[0m\n\u001b[0;32m      7\u001b[0m         \u001b[38;5;28;01mbreak\u001b[39;00m\n\u001b[0;32m      8\u001b[0m     x \u001b[38;5;241m=\u001b[39m \u001b[38;5;28mfloat\u001b[39m(text)\n\u001b[1;32m----> 9\u001b[0m     y \u001b[38;5;241m=\u001b[39m \u001b[38;5;241;43m1\u001b[39;49m\u001b[43m \u001b[49m\u001b[38;5;241;43m/\u001b[39;49m\u001b[43m \u001b[49m\u001b[43mmath\u001b[49m\u001b[38;5;241;43m.\u001b[39;49m\u001b[43mlog10\u001b[49m\u001b[43m(\u001b[49m\u001b[43mx\u001b[49m\u001b[43m)\u001b[49m\n\u001b[0;32m     10\u001b[0m     \u001b[38;5;28mprint\u001b[39m (\u001b[38;5;124m\"\u001b[39m\u001b[38;5;124mlog10(\u001b[39m\u001b[38;5;132;01m{0}\u001b[39;00m\u001b[38;5;124m) = \u001b[39m\u001b[38;5;132;01m{1}\u001b[39;00m\u001b[38;5;124m\"\u001b[39m\u001b[38;5;241m.\u001b[39mformat(x, y))\n\u001b[0;32m     11\u001b[0m \u001b[38;5;28;01mexcept\u001b[39;00m \u001b[38;5;167;01mValueError\u001b[39;00m:\n",
      "\u001b[1;31mZeroDivisionError\u001b[0m: float division by zero"
     ]
    }
   ],
   "source": [
    "import math\n",
    "\n",
    "while True:\n",
    "    try:\n",
    "        text = input('> ')\n",
    "        if text[0] == 'q':\n",
    "            break\n",
    "        x = float(text)\n",
    "        y = 1 / math.log10(x)\n",
    "        print (\"log10({0}) = {1}\".format(x, y))\n",
    "    except ValueError:\n",
    "        print (\"the value must be greater than 0\")"
   ]
  },
  {
   "cell_type": "markdown",
   "metadata": {},
   "source": [
    "Because there is no `ZeroDivisionError` in our `except`, this exception will be thrown. We can solve this problem in two ways:"
   ]
  },
  {
   "cell_type": "markdown",
   "metadata": {},
   "source": [
    "## Catch all exceptions"
   ]
  },
  {
   "cell_type": "markdown",
   "metadata": {},
   "source": [
    "Change the value of `except` to the `Exception` class to catch all exceptions."
   ]
  },
  {
   "cell_type": "code",
   "execution_count": 4,
   "metadata": {},
   "outputs": [
    {
     "name": "stdout",
     "output_type": "stream",
     "text": [
      "> 0\n",
      "invalid value\n"
     ]
    }
   ],
   "source": [
    "import math\n",
    "a= True\n",
    "while a:\n",
    "    try:\n",
    "        text =input('> ')\n",
    "        if text[0] == 'q':\n",
    "            break\n",
    "        x = float(text)\n",
    "        y = 1 / math.log10(x)\n",
    "        print (\"1 / log10({0}) = {1}\".format(x, y))\n",
    "    except Exception:\n",
    "        print (\"invalid value\")\n",
    "        a = False"
   ]
  },
  {
   "cell_type": "markdown",
   "metadata": {},
   "source": [
    "## Specify a specific value"
   ]
  },
  {
   "cell_type": "markdown",
   "metadata": {},
   "source": [
    "Here, we add `ZeroDivisionError` to `except`."
   ]
  },
  {
   "cell_type": "code",
   "execution_count": 5,
   "metadata": {},
   "outputs": [
    {
     "name": "stdout",
     "output_type": "stream",
     "text": [
      "> 1\n",
      "invalid value\n",
      "> 0\n",
      "invalid value\n",
      "> q\n"
     ]
    }
   ],
   "source": [
    "import math\n",
    "a= True\n",
    "while a:\n",
    "    try:\n",
    "        text = input('> ')\n",
    "        if text[0] == 'q':\n",
    "            break\n",
    "        x = float(text)\n",
    "        y = 1 / math.log10(x)\n",
    "        print (\"1 / log10({0}) = {1}\".format(x, y))\n",
    "    except (ValueError, ZeroDivisionError):\n",
    "        print (\"invalid value\")"
   ]
  },
  {
   "cell_type": "markdown",
   "metadata": {},
   "source": [
    "Or additional processing:"
   ]
  },
  {
   "cell_type": "code",
   "execution_count": 6,
   "metadata": {
    "scrolled": true
   },
   "outputs": [
    {
     "name": "stdout",
     "output_type": "stream",
     "text": [
      "> 1\n",
      "the value must not be 1\n",
      "> 0\n",
      "the value must be greater than 0\n",
      "> q\n"
     ]
    }
   ],
   "source": [
    "import math\n",
    "\n",
    "while True:\n",
    "    try:\n",
    "        text = input('> ')\n",
    "        if text[0] == 'q':\n",
    "            break\n",
    "        x = float(text)\n",
    "        y = 1 / math.log10(x)\n",
    "        print (\"1 / log10({0}) = {1}\".format(x, y))\n",
    "    except ValueError:\n",
    "        print (\"the value must be greater than 0\")\n",
    "    except ZeroDivisionError:\n",
    "        print (\"the value must not be 1\")"
   ]
  },
  {
   "cell_type": "markdown",
   "metadata": {},
   "source": [
    "In fact, we can also combine these two methods and use `Exception` to catch other errors:"
   ]
  },
  {
   "cell_type": "code",
   "execution_count": 7,
   "metadata": {},
   "outputs": [
    {
     "name": "stdout",
     "output_type": "stream",
     "text": [
      "> 1\n",
      "the value must not be 1\n",
      "> -1\n",
      "the value must be greater than 0\n",
      "> 0\n",
      "the value must be greater than 0\n",
      "> q\n"
     ]
    }
   ],
   "source": [
    "import math\n",
    "\n",
    "while True:\n",
    "    try:\n",
    "        text = input('> ')\n",
    "        if text[0] == 'q':\n",
    "            break\n",
    "        x = float(text)\n",
    "        y = 1 / math.log10(x)\n",
    "        print (\"1 / log10({0}) = {1}\".format(x, y))\n",
    "    except ValueError:\n",
    "        print (\"the value must be greater than 0\")\n",
    "    except ZeroDivisionError:\n",
    "        print (\"the value must not be 1\")\n",
    "    except Exception:\n",
    "        print (\"unexpected error\")"
   ]
  },
  {
   "cell_type": "markdown",
   "metadata": {},
   "source": [
    "## Get the specific information of the exception"
   ]
  },
  {
   "cell_type": "markdown",
   "metadata": {},
   "source": [
    "In the above example, when we input a string that cannot be converted to a float, it outputs `the value must be greater than 0`, which does not reflect the actual situation."
   ]
  },
  {
   "cell_type": "code",
   "execution_count": 8,
   "metadata": {},
   "outputs": [
    {
     "ename": "ValueError",
     "evalue": "could not convert string to float: 'a'",
     "output_type": "error",
     "traceback": [
      "\u001b[1;31m---------------------------------------------------------------------------\u001b[0m",
      "\u001b[1;31mValueError\u001b[0m                                Traceback (most recent call last)",
      "Cell \u001b[1;32mIn[8], line 1\u001b[0m\n\u001b[1;32m----> 1\u001b[0m \u001b[38;5;28;43mfloat\u001b[39;49m\u001b[43m(\u001b[49m\u001b[38;5;124;43m'\u001b[39;49m\u001b[38;5;124;43ma\u001b[39;49m\u001b[38;5;124;43m'\u001b[39;49m\u001b[43m)\u001b[49m\n",
      "\u001b[1;31mValueError\u001b[0m: could not convert string to float: 'a'"
     ]
    }
   ],
   "source": [
    "float('a')"
   ]
  },
  {
   "cell_type": "markdown",
   "metadata": {},
   "source": [
    "In order to get the specific information of the exception, we materialize this `ValueError`:"
   ]
  },
  {
   "cell_type": "code",
   "execution_count": 9,
   "metadata": {},
   "outputs": [
    {
     "name": "stdout",
     "output_type": "stream",
     "text": [
      "> 10\n",
      "1 / log10(10.0) = 1.0\n",
      "> 1\n",
      "Error: The value must not be 1\n",
      "> 0\n",
      "Error: The value must be greater than 0\n",
      "> abs\n",
      "Error: Could not convert 'abs' to float\n",
      "> q\n"
     ]
    }
   ],
   "source": [
    "import math\n",
    "\n",
    "while True:\n",
    "    try:\n",
    "        text = input('> ')\n",
    "        if text[0] == 'q':\n",
    "            break\n",
    "        x = float(text)\n",
    "        y = 1 / math.log10(x)\n",
    "        print(\"1 / log10({0}) = {1}\".format(x, y))\n",
    "    except ValueError as exc:\n",
    "        if \"math domain error\" in str(exc):\n",
    "            print(\"Error: The value must be greater than 0\")\n",
    "        else:\n",
    "            print(\"Error: Could not convert '%s' to float\" % text)\n",
    "    except ZeroDivisionError:\n",
    "        print(\"Error: The value must not be 1\")\n",
    "    except Exception as exc:\n",
    "        print(\"Unexpected error:\", str(exc))\n"
   ]
  },
  {
   "cell_type": "markdown",
   "metadata": {},
   "source": [
    "At the same time, we also display information about other captured exceptions.\n",
    "\n",
    "Here, the content displayed by `exc.message` is the description corresponding to the exception, for example\n",
    "\n",
    "     ValueError: could not convert string to float: a\n",
    "\n",
    "The corresponding `message` is\n",
    "\n",
    "     could not convert string to float: a\n",
    "\n",
    "When we use `except Exception`, all `Exception` and its derived subclasses will be caught, but not all exceptions are derived from the `Exception` class. There may be some situations that cannot be caught, so , a more general approach is to use this form:\n",
    "\n",
    "```python\n",
    "try:\n",
    "     pass\n",
    "except:\n",
    "     pass\n",
    "```\n",
    "\n",
    "Not specifying the exception type will catch all exceptions, but this form is not recommended."
   ]
  },
  {
   "cell_type": "markdown",
   "metadata": {},
   "source": [
    "## Custom exception"
   ]
  },
  {
   "cell_type": "markdown",
   "metadata": {},
   "source": [
    "Exceptions are classes in the standard library, which means we can customize exception classes:"
   ]
  },
  {
   "cell_type": "code",
   "execution_count": 10,
   "metadata": {},
   "outputs": [],
   "source": [
    "class CommandError(ValueError):\n",
    "    pass"
   ]
  },
  {
   "cell_type": "markdown",
   "metadata": {},
   "source": [
    "Here we define an exception class inherited from `ValueError`. The exception class generally receives a string as input and uses this string as exception information, for example:"
   ]
  },
  {
   "cell_type": "code",
   "execution_count": 11,
   "metadata": {
    "scrolled": true
   },
   "outputs": [
    {
     "name": "stdout",
     "output_type": "stream",
     "text": [
      "> start\n",
      "> Use\n"
     ]
    },
    {
     "ename": "CommandError",
     "evalue": "Invalid commmand: Use",
     "output_type": "error",
     "traceback": [
      "\u001b[1;31m---------------------------------------------------------------------------\u001b[0m",
      "\u001b[1;31mCommandError\u001b[0m                              Traceback (most recent call last)",
      "Cell \u001b[1;32mIn[11], line 6\u001b[0m\n\u001b[0;32m      4\u001b[0m command \u001b[38;5;241m=\u001b[39m \u001b[38;5;28minput\u001b[39m(\u001b[38;5;124m'\u001b[39m\u001b[38;5;124m> \u001b[39m\u001b[38;5;124m'\u001b[39m)\n\u001b[0;32m      5\u001b[0m \u001b[38;5;28;01mif\u001b[39;00m command\u001b[38;5;241m.\u001b[39mlower() \u001b[38;5;129;01mnot\u001b[39;00m \u001b[38;5;129;01min\u001b[39;00m valid_commands:\n\u001b[1;32m----> 6\u001b[0m     \u001b[38;5;28;01mraise\u001b[39;00m CommandError(\u001b[38;5;124m'\u001b[39m\u001b[38;5;124mInvalid commmand: \u001b[39m\u001b[38;5;132;01m%s\u001b[39;00m\u001b[38;5;124m'\u001b[39m \u001b[38;5;241m%\u001b[39m command)\n",
      "\u001b[1;31mCommandError\u001b[0m: Invalid commmand: Use"
     ]
    }
   ],
   "source": [
    "valid_commands = {'start', 'stop', 'pause'}\n",
    "\n",
    "while True:\n",
    "    command = input('> ')\n",
    "    if command.lower() not in valid_commands:\n",
    "        raise CommandError('Invalid commmand: %s' % command)"
   ]
  },
  {
   "cell_type": "markdown",
   "metadata": {},
   "source": [
    "We use the `raise` keyword to throw exceptions."
   ]
  },
  {
   "cell_type": "markdown",
   "metadata": {},
   "source": [
    "We can use a `try/except` block to catch this exception:"
   ]
  },
  {
   "cell_type": "markdown",
   "metadata": {},
   "source": [
    "``` python\n",
    "valid_commands = {'start', 'stop', 'pause'}\n",
    "\n",
    "while True:\n",
    "    command = raw_input('> ')\n",
    "    try:\n",
    "        if command.lower() not in valid_commands:\n",
    "            raise CommandError('Invalid commmand: %s' % command)\n",
    "    except CommandError:\n",
    "        print ('Bad command string: \"%s\"' % command)\n",
    "```"
   ]
  },
  {
   "cell_type": "markdown",
   "metadata": {},
   "source": [
    "Since `CommandError` inherits from `ValueError`, we can also use `except ValueError` to catch this exception."
   ]
  },
  {
   "cell_type": "markdown",
   "metadata": {},
   "source": [
    "## finally"
   ]
  },
  {
   "cell_type": "markdown",
   "metadata": {},
   "source": [
    "The try/catch block also has an optional keyword finally.\n",
    "\n",
    "Regardless of whether there is an exception in the try block, the contents of the finally block will always be executed, and will be executed before the exception is thrown, so it can be used as a safety guarantee, such as ensuring that open files are closed. ."
   ]
  },
  {
   "cell_type": "code",
   "execution_count": 12,
   "metadata": {},
   "outputs": [
    {
     "name": "stdout",
     "output_type": "stream",
     "text": [
      "1\n",
      "finally was called.\n"
     ]
    }
   ],
   "source": [
    "try:\n",
    "    print (1)\n",
    "finally:\n",
    "    print ('finally was called.')"
   ]
  },
  {
   "cell_type": "markdown",
   "metadata": {},
   "source": [
    "Execute before throwing exception:"
   ]
  },
  {
   "cell_type": "code",
   "execution_count": 13,
   "metadata": {},
   "outputs": [
    {
     "name": "stdout",
     "output_type": "stream",
     "text": [
      "finally was called.\n"
     ]
    },
    {
     "ename": "ZeroDivisionError",
     "evalue": "division by zero",
     "output_type": "error",
     "traceback": [
      "\u001b[1;31m---------------------------------------------------------------------------\u001b[0m",
      "\u001b[1;31mZeroDivisionError\u001b[0m                         Traceback (most recent call last)",
      "Cell \u001b[1;32mIn[13], line 2\u001b[0m\n\u001b[0;32m      1\u001b[0m \u001b[38;5;28;01mtry\u001b[39;00m:\n\u001b[1;32m----> 2\u001b[0m     \u001b[38;5;28mprint\u001b[39m (\u001b[38;5;241;43m1\u001b[39;49m\u001b[43m \u001b[49m\u001b[38;5;241;43m/\u001b[39;49m\u001b[43m \u001b[49m\u001b[38;5;241;43m0\u001b[39;49m)\n\u001b[0;32m      3\u001b[0m \u001b[38;5;28;01mfinally\u001b[39;00m:\n\u001b[0;32m      4\u001b[0m     \u001b[38;5;28mprint\u001b[39m (\u001b[38;5;124m'\u001b[39m\u001b[38;5;124mfinally was called.\u001b[39m\u001b[38;5;124m'\u001b[39m)\n",
      "\u001b[1;31mZeroDivisionError\u001b[0m: division by zero"
     ]
    }
   ],
   "source": [
    "try:\n",
    "    print (1 / 0)\n",
    "finally:\n",
    "    print ('finally was called.')"
   ]
  },
  {
   "cell_type": "markdown",
   "metadata": {},
   "source": [
    "If the exception is caught, execute at the end:"
   ]
  },
  {
   "cell_type": "code",
   "execution_count": 14,
   "metadata": {},
   "outputs": [
    {
     "name": "stdout",
     "output_type": "stream",
     "text": [
      "divide by 0.\n",
      "finally was called.\n"
     ]
    }
   ],
   "source": [
    "try:\n",
    "    print (1 / 0)\n",
    "except ZeroDivisionError:\n",
    "    print ('divide by 0.')\n",
    "finally:\n",
    "    print ('finally was called.')"
   ]
  }
 ],
 "metadata": {
  "kernelspec": {
   "display_name": "Python 3 (ipykernel)",
   "language": "python",
   "name": "python3"
  },
  "language_info": {
   "codemirror_mode": {
    "name": "ipython",
    "version": 3
   },
   "file_extension": ".py",
   "mimetype": "text/x-python",
   "name": "python",
   "nbconvert_exporter": "python",
   "pygments_lexer": "ipython3",
   "version": "3.11.2"
  }
 },
 "nbformat": 4,
 "nbformat_minor": 1
}
