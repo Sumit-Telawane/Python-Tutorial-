{
 "cells": [
  {
   "cell_type": "markdown",
   "metadata": {},
   "source": [
    "# Immutable collection"
   ]
  },
  {
   "cell_type": "markdown",
   "metadata": {},
   "source": [
    "Corresponding to the relationship between tuples (`tuple`) and lists (`list`), for sets (`set`), **Python** provides a data structure called immutable sets (`frozen set`).\n",
    "\n",
    "Use `frozenset` to create:"
   ]
  },
  {
   "cell_type": "code",
   "execution_count": 1,
   "metadata": {},
   "outputs": [
    {
     "data": {
      "text/plain": [
       "frozenset({1, 2, 3, 'a'})"
      ]
     },
     "execution_count": 1,
     "metadata": {},
     "output_type": "execute_result"
    }
   ],
   "source": [
    "s = frozenset([1, 2, 3, 'a', 1])\n",
    "s"
   ]
  },
  {
   "cell_type": "markdown",
   "metadata": {},
   "source": [
    "Unlike collections, immutable collections cannot be changed once created.\n",
    "\n",
    "One of the main applications of immutable collections is as dictionary keys, such as using a dictionary to record the distance between two cities:"
   ]
  },
  {
   "cell_type": "code",
   "execution_count": 2,
   "metadata": {},
   "outputs": [
    {
     "data": {
      "text/plain": [
       "{frozenset({'Los Angeles', 'New York'}): 2498,\n",
       " frozenset({'Austin', 'Los Angeles'}): 1233,\n",
       " frozenset({'Austin', 'New York'}): 1515}"
      ]
     },
     "execution_count": 2,
     "metadata": {},
     "output_type": "execute_result"
    }
   ],
   "source": [
    "flight_distance = {}\n",
    "city_pair = frozenset(['Los Angeles', 'New York'])\n",
    "flight_distance[city_pair] = 2498\n",
    "\n",
    "flight_distance[frozenset(['Austin', 'Los Angeles'])] = 1233\n",
    "flight_distance[frozenset(['Austin', 'New York'])] = 1515\n",
    "flight_distance"
   ]
  },
  {
   "cell_type": "markdown",
   "metadata": {},
   "source": [
    "Since collections are not ordered, different orders will not affect the search results:"
   ]
  },
  {
   "cell_type": "code",
   "execution_count": 3,
   "metadata": {},
   "outputs": [
    {
     "data": {
      "text/plain": [
       "1515"
      ]
     },
     "execution_count": 3,
     "metadata": {},
     "output_type": "execute_result"
    }
   ],
   "source": [
    "flight_distance[frozenset(['New York','Austin'])]"
   ]
  },
  {
   "cell_type": "code",
   "execution_count": 4,
   "metadata": {},
   "outputs": [
    {
     "data": {
      "text/plain": [
       "1515"
      ]
     },
     "execution_count": 4,
     "metadata": {},
     "output_type": "execute_result"
    }
   ],
   "source": [
    "flight_distance[frozenset(['Austin','New York'])]"
   ]
  }
 ],
 "metadata": {
  "kernelspec": {
   "display_name": "Python 3 (ipykernel)",
   "language": "python",
   "name": "python3"
  },
  "language_info": {
   "codemirror_mode": {
    "name": "ipython",
    "version": 3
   },
   "file_extension": ".py",
   "mimetype": "text/x-python",
   "name": "python",
   "nbconvert_exporter": "python",
   "pygments_lexer": "ipython3",
   "version": "3.11.2"
  }
 },
 "nbformat": 4,
 "nbformat_minor": 1
}
