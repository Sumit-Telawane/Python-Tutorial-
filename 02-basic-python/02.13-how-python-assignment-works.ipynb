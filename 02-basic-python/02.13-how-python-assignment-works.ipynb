{
 "cells": [
  {
   "cell_type": "markdown",
   "metadata": {},
   "source": [
    "# Python assignment mechanism"
   ]
  },
  {
   "cell_type": "markdown",
   "metadata": {},
   "source": [
    "Let’s look at an example first:"
   ]
  },
  {
   "cell_type": "code",
   "execution_count": 1,
   "metadata": {},
   "outputs": [
    {
     "name": "stdout",
     "output_type": "stream",
     "text": [
      "[1, 100, 3]\n"
     ]
    }
   ],
   "source": [
    "x = [1, 2, 3]\n",
    "y = x\n",
    "x[1] = 100\n",
    "print(y)"
   ]
  },
  {
   "cell_type": "markdown",
   "metadata": {},
   "source": [
    "Changing the value of variable `x` will also change the value of variable `y`. This is related to the internal assignment mechanism of **Python**."
   ]
  },
  {
   "cell_type": "markdown",
   "metadata": {},
   "source": [
    "## Simple type"
   ]
  },
  {
   "cell_type": "markdown",
   "metadata": {},
   "source": [
    "Let’s first look at the execution process of this piece of code in **Python**.\n",
    "\n",
    "```python\n",
    "x = 500\n",
    "y = x\n",
    "y = 'foo'\n",
    "```\n",
    "\n",
    "- `x = 500`\n",
    "\n",
    "**Python** allocates a `PyInt` size memory `pos1` to store the object `500`. Then, Python lets the variable `x` point to this memory in the namespace. Note that integers are immutable types. , so the contents of this memory are immutable.\n",
    "\n",
    "|memory|namespace|\n",
    "|---|---|\n",
    "|`pos1 : PyInt(500)` (immutable)| `x : pos1` |\n",
    "\n",
    "- `y = x `\n",
    "\n",
    "**Python** does not use new memory to store the value of variable `y`, but in the namespace, let variable `y` and variable `x` point to the same memory space.\n",
    "\n",
    "|memory|namespace|\n",
    "|---|---|\n",
    "|`pos1 : PyInt(500)` (immutable)|`x : pos1`<br> `y : pos1`|\n",
    "\n",
    "- `y = 'foo'`\n",
    "\n",
    "**Python** now allocates a `PyStr` size memory `pos2` to store the object `foo`, and then changes the object pointed to by the variable `y`.\n",
    "\n",
    "|memory|namespace|\n",
    "|---|---|\n",
    "|`pos1 : PyInt(500)` (immutable)<br> `pos2 : PyStr('foo')` (immutable)|`x : pos1`<br>`y : pos2`|\n",
    "\n",
    "To verify this process, use the `id` function.\n",
    "\n",
    "     id(x)\n",
    "\n",
    "Returns the memory address of variable `x`."
   ]
  },
  {
   "cell_type": "code",
   "execution_count": 2,
   "metadata": {},
   "outputs": [
    {
     "data": {
      "text/plain": [
       "2267300357584"
      ]
     },
     "execution_count": 2,
     "metadata": {},
     "output_type": "execute_result"
    }
   ],
   "source": [
    "x = 500\n",
    "id(x)"
   ]
  },
  {
   "cell_type": "code",
   "execution_count": 3,
   "metadata": {},
   "outputs": [
    {
     "data": {
      "text/plain": [
       "2267300357584"
      ]
     },
     "execution_count": 3,
     "metadata": {},
     "output_type": "execute_result"
    }
   ],
   "source": [
    "y = x\n",
    "id(y)"
   ]
  },
  {
   "cell_type": "markdown",
   "metadata": {
    "collapsed": true
   },
   "source": [
    "You can also use `is` to determine whether they point to the same thing:"
   ]
  },
  {
   "cell_type": "code",
   "execution_count": 4,
   "metadata": {},
   "outputs": [
    {
     "data": {
      "text/plain": [
       "True"
      ]
     },
     "execution_count": 4,
     "metadata": {},
     "output_type": "execute_result"
    }
   ],
   "source": [
    "x is y"
   ]
  },
  {
   "cell_type": "markdown",
   "metadata": {
    "collapsed": true
   },
   "source": [
    "Now `y` points to another piece of memory:"
   ]
  },
  {
   "cell_type": "code",
   "execution_count": 5,
   "metadata": {},
   "outputs": [
    {
     "data": {
      "text/plain": [
       "2267248647344"
      ]
     },
     "execution_count": 5,
     "metadata": {},
     "output_type": "execute_result"
    }
   ],
   "source": [
    "y = 'foo'\n",
    "id(y)"
   ]
  },
  {
   "cell_type": "code",
   "execution_count": 6,
   "metadata": {},
   "outputs": [
    {
     "data": {
      "text/plain": [
       "False"
      ]
     },
     "execution_count": 6,
     "metadata": {},
     "output_type": "execute_result"
    }
   ],
   "source": [
    "x is y"
   ]
  },
  {
   "cell_type": "markdown",
   "metadata": {
    "collapsed": true
   },
   "source": [
    "**Python** will assign a value to every object that appears, even if their values are the same, for example:"
   ]
  },
  {
   "cell_type": "code",
   "execution_count": 7,
   "metadata": {},
   "outputs": [
    {
     "data": {
      "text/plain": [
       "2267300357328"
      ]
     },
     "execution_count": 7,
     "metadata": {},
     "output_type": "execute_result"
    }
   ],
   "source": [
    "x = 500\n",
    "id(x)"
   ]
  },
  {
   "cell_type": "code",
   "execution_count": 8,
   "metadata": {},
   "outputs": [
    {
     "data": {
      "text/plain": [
       "2267300356432"
      ]
     },
     "execution_count": 8,
     "metadata": {},
     "output_type": "execute_result"
    }
   ],
   "source": [
    "y = 500\n",
    "id(y)"
   ]
  },
  {
   "cell_type": "code",
   "execution_count": 9,
   "metadata": {},
   "outputs": [
    {
     "data": {
      "text/plain": [
       "False"
      ]
     },
     "execution_count": 9,
     "metadata": {},
     "output_type": "execute_result"
    }
   ],
   "source": [
    "x is y"
   ]
  },
  {
   "cell_type": "markdown",
   "metadata": {
    "collapsed": true
   },
   "source": [
    "However, in order to improve memory utilization efficiency, for some simple objects, such as some int objects with small values, **Python** adopts the method of reusing object memory:"
   ]
  },
  {
   "cell_type": "code",
   "execution_count": 10,
   "metadata": {},
   "outputs": [
    {
     "data": {
      "text/plain": [
       "140715959972680"
      ]
     },
     "execution_count": 10,
     "metadata": {},
     "output_type": "execute_result"
    }
   ],
   "source": [
    "x = 2\n",
    "id(x)"
   ]
  },
  {
   "cell_type": "code",
   "execution_count": 11,
   "metadata": {},
   "outputs": [
    {
     "data": {
      "text/plain": [
       "140715959972680"
      ]
     },
     "execution_count": 11,
     "metadata": {},
     "output_type": "execute_result"
    }
   ],
   "source": [
    "y = 2\n",
    "id(y)"
   ]
  },
  {
   "cell_type": "code",
   "execution_count": 12,
   "metadata": {},
   "outputs": [
    {
     "data": {
      "text/plain": [
       "True"
      ]
     },
     "execution_count": 12,
     "metadata": {},
     "output_type": "execute_result"
    }
   ],
   "source": [
    "x is y"
   ]
  },
  {
   "cell_type": "markdown",
   "metadata": {
    "collapsed": true
   },
   "source": [
    "## Container type"
   ]
  },
  {
   "cell_type": "markdown",
   "metadata": {},
   "source": [
    "Now look at another piece of code:\n",
    "\n",
    "```python\n",
    "x = [500, 501, 502]\n",
    "y = x\n",
    "y[1] = 600\n",
    "y = [700, 800]\n",
    "```\n",
    "\n",
    "- `x = [500, 501, 502]`\n",
    "\n",
    "Python allocates memory `pos1`, `pos2`, `pos3` (immutable) for 3 PyInts, then allocates a section of memory `pos4` for the list, which contains 3 locations, pointing to these 3 memories respectively, and finally lets the variables `x` points to this list.\n",
    "\n",
    "|memory|namespace|\n",
    "|---|---|\n",
    "|`pos1 : PyInt(500)` (immutable) <br> `pos2 : PyInt(501)` (immutable) <br>`pos3 : PyInt(502)` (immutable) <br> `pos4 : PyList (pos1, pos2, pos3)` (variable)|`x : pos4`|\n",
    "\n",
    "- `y = x`\n",
    "\n",
    "No new object is created, just point `y` to `pos4`.\n",
    "\n",
    "|memory|namespace|\n",
    "|---|---|\n",
    "|`pos1 : PyInt(500)` (immutable) <br> `pos2 : PyInt(501)` (immutable) <br> `pos3 : PyInt(502)` (immutable) <br> `pos4 : PyList (pos1, pos2, pos3)` (variable)|`x : pos4`<br>`y : pos4`|\n",
    "\n",
    "- `y[1] = 600`\n",
    "\n",
    "It turns out that the location `y[1]` points to `pos2`. Since the value of `pos2` cannot be modified, new memory `pos5` is allocated for `600` first.\n",
    "\n",
    "Then change the position pointed by `y[1]` to `pos5`. At this time, since the object at `pos2` is no longer useful, **Python** will automatically call the garbage disposal mechanism to recycle it.\n",
    "\n",
    "|memory|namespace|\n",
    "|---|---|\n",
    "|`pos1 : PyInt(500)` (immutable) <br> `pos2 :` Garbage collection<br> `pos3 : PyInt(502)` (immutable) <br> `pos4 : PyList(pos1, pos5, pos3 )` (variable)<br>`pos5 : PyInt(600)` (immutable) |`x : pos4`<br> `y : pos4`|\n",
    "\n",
    "- `y = [700, 800]`\n",
    "\n",
    "First create this list and then point the variable `y` to it.\n",
    "\n",
    "|memory|namespace|\n",
    "|---|---|\n",
    "|`pos1 : PyInt(500)` (immutable) <br> `pos3 : PyInt(502)` (immutable) <br>`pos4 : PyList(pos1, pos5, pos3)` (variable)<br> `pos5 : PyInt(600)` (immutable) <br>`pos6 : PyInt(700)` (immutable)<br>`pos7 : PyInt(800)` (immutable)<br>`pos8 : PyList( pos6, pos7)` (variable)|`x : pos4` <br> `y : pos8`|\n",
    "\n",
    "To verify this process:"
   ]
  },
  {
   "cell_type": "code",
   "execution_count": 13,
   "metadata": {},
   "outputs": [
    {
     "name": "stdout",
     "output_type": "stream",
     "text": [
      "2267300357904\n",
      "2267300357328\n",
      "2267300356720\n",
      "2267302596928\n"
     ]
    }
   ],
   "source": [
    "x = [500, 501, 502]\n",
    "print(id(x[0]))\n",
    "print(id(x[1]))\n",
    "print(id(x[2]))\n",
    "print(id(x))"
   ]
  },
  {
   "cell_type": "markdown",
   "metadata": {},
   "source": [
    "Assignment, `id(y)` is the same as `id(x)`."
   ]
  },
  {
   "cell_type": "code",
   "execution_count": 14,
   "metadata": {
    "scrolled": true
   },
   "outputs": [
    {
     "name": "stdout",
     "output_type": "stream",
     "text": [
      "2267302596928\n"
     ]
    }
   ],
   "source": [
    "y = x\n",
    "print(id(y))"
   ]
  },
  {
   "cell_type": "code",
   "execution_count": 15,
   "metadata": {},
   "outputs": [
    {
     "data": {
      "text/plain": [
       "True"
      ]
     },
     "execution_count": 15,
     "metadata": {},
     "output_type": "execute_result"
    }
   ],
   "source": [
    "x is y"
   ]
  },
  {
   "cell_type": "markdown",
   "metadata": {},
   "source": [
    "Modify `y[1]`, `id(y)` does not change."
   ]
  },
  {
   "cell_type": "code",
   "execution_count": 16,
   "metadata": {
    "scrolled": true
   },
   "outputs": [
    {
     "name": "stdout",
     "output_type": "stream",
     "text": [
      "2267302596928\n"
     ]
    }
   ],
   "source": [
    "y[1] = 600\n",
    "print(id(y))"
   ]
  },
  {
   "cell_type": "markdown",
   "metadata": {},
   "source": [
    "The values of `id(x[1])` and `id(y[1])` changed."
   ]
  },
  {
   "cell_type": "code",
   "execution_count": 17,
   "metadata": {},
   "outputs": [
    {
     "name": "stdout",
     "output_type": "stream",
     "text": [
      "2267302271376\n",
      "2267302271376\n"
     ]
    }
   ],
   "source": [
    "print(id(x[1]))\n",
    "print(id(y[1]))"
   ]
  },
  {
   "cell_type": "markdown",
   "metadata": {},
   "source": [
    "Change the value of `y`, the value of `id(y)` changes"
   ]
  },
  {
   "cell_type": "code",
   "execution_count": 18,
   "metadata": {},
   "outputs": [
    {
     "name": "stdout",
     "output_type": "stream",
     "text": [
      "2267301993216\n",
      "2267302596928\n"
     ]
    }
   ],
   "source": [
    "y = [700, 800]\n",
    "print(id(y))\n",
    "print(id(x))"
   ]
  }
 ],
 "metadata": {
  "kernelspec": {
   "display_name": "Python 3 (ipykernel)",
   "language": "python",
   "name": "python3"
  },
  "language_info": {
   "codemirror_mode": {
    "name": "ipython",
    "version": 3
   },
   "file_extension": ".py",
   "mimetype": "text/x-python",
   "name": "python",
   "nbconvert_exporter": "python",
   "pygments_lexer": "ipython3",
   "version": "3.11.2"
  }
 },
 "nbformat": 4,
 "nbformat_minor": 1
}
