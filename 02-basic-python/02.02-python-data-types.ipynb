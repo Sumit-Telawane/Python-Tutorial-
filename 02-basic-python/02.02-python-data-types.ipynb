{
 "cells": [
  {
   "cell_type": "markdown",
   "metadata": {},
   "source": [
    "# Python data types"
   ]
  },
  {
   "cell_type": "markdown",
   "metadata": {},
   "source": [
    "## Common Data Types"
   ]
  },
  {
   "cell_type": "markdown",
   "metadata": {},
   "source": [
    "| Type | Example |\n",
    "| ----- | ----- |\n",
    "| Integer | `-100` |\n",
    "| Floating point number | `3.1416` |\n",
    "| string | `'hello'` |\n",
    "| List | `[1, 1.2, 'hello']` |\n",
    "| Dictionary | `{'dogs': 5, 'pigs': 3}`|\n",
    "| Numpy array | `array([1, 2, 3])`"
   ]
  },
  {
   "cell_type": "markdown",
   "metadata": {},
   "source": [
    "## Other types"
   ]
  },
  {
   "cell_type": "markdown",
   "metadata": {},
   "source": [
    "| Type | Example |\n",
    "| ------- | ----- |\n",
    "| Long type | `1000000000000L`\n",
    "| Boolean | `True, False`\n",
    "| Tuple | `('ring', 1000)`\n",
    "| Set | `{1, 2, 3}`\n",
    "| Pandas types | `DataFrame, Series`\n",
    "| Custom | `Object Oriented Classes`"
   ]
  }
 ],
 "metadata": {
  "kernelspec": {
   "display_name": "Python 3 (ipykernel)",
   "language": "python",
   "name": "python3"
  },
  "language_info": {
   "codemirror_mode": {
    "name": "ipython",
    "version": 3
   },
   "file_extension": ".py",
   "mimetype": "text/x-python",
   "name": "python",
   "nbconvert_exporter": "python",
   "pygments_lexer": "ipython3",
   "version": "3.11.2"
  }
 },
 "nbformat": 4,
 "nbformat_minor": 1
}
