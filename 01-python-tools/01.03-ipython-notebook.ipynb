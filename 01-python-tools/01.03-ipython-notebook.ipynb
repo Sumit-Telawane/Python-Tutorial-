{
 "cells": [
  {
   "cell_type": "markdown",
   "metadata": {},
   "source": [
    "# Ipython notebook"
   ]
  },
  {
   "cell_type": "markdown",
   "metadata": {},
   "source": [
    "Enter the command at the command line:\n",
    "\n",
    "     ipython notebook\n",
    "\n",
    "A notebook local server will be opened, the general address is http://localhost:8888\n",
    "\n",
    "**`ipython notebook`** supports two modes of cells:\n",
    "\n",
    "* Markdown\n",
    "*Code"
   ]
  }
 ],
 "metadata": {
  "kernelspec": {
   "display_name": "Python 3 (ipykernel)",
   "language": "python",
   "name": "python3"
  },
  "language_info": {
   "codemirror_mode": {
    "name": "ipython",
    "version": 3
   },
   "file_extension": ".py",
   "mimetype": "text/x-python",
   "name": "python",
   "nbconvert_exporter": "python",
   "pygments_lexer": "ipython3",
   "version": "3.11.2"
  }
 },
 "nbformat": 4,
 "nbformat_minor": 1
}
